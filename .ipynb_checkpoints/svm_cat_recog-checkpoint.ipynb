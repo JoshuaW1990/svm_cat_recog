{
 "cells": [
  {
   "cell_type": "markdown",
   "metadata": {},
   "source": [
    "This is the ipython notebook for the shiyanlou svm_cat"
   ]
  },
  {
   "cell_type": "markdown",
   "metadata": {},
   "source": [
    "# python-opencv"
   ]
  },
  {
   "cell_type": "markdown",
   "metadata": {},
   "source": [
    "## training"
   ]
  },
  {
   "cell_type": "code",
   "execution_count": 1,
   "metadata": {},
   "outputs": [],
   "source": [
    "import numpy as np\n",
    "import cv2\n",
    "from os.path import dirname, join, basename\n",
    "import os\n",
    "import sys\n",
    "from glob import glob"
   ]
  },
  {
   "cell_type": "code",
   "execution_count": 2,
   "metadata": {},
   "outputs": [],
   "source": [
    "bin_n = 16 * 16"
   ]
  },
  {
   "cell_type": "code",
   "execution_count": 3,
   "metadata": {},
   "outputs": [],
   "source": [
    "def hog(img):\n",
    "    x_pixel, y_pixel = 194, 259\n",
    "    gx = cv2.Sobel(img, cv2.CV_32F, 1, 0)\n",
    "    gy = cv2.Sobel(img, cv2.CV_32F, 0, 1)\n",
    "    mag, ang = cv2.cartToPolar(gx, gy)\n",
    "    bins = np.int32(bin_n*ang/(2*np.pi))\n",
    "    bin_cells = bins[:x_pixel/2, :y_pixel/2], bins[x_pixel/2:, :y_pixel/2], bins[:x_pixel/2, y_pixel/2:], bins[x_pixel/2:, y_pixel/2:]\n",
    "    mag_cells = mag[:x_pixel/2,:y_pixel/2], mag[x_pixel/2:,:y_pixel/2], mag[:x_pixel/2,y_pixel/2:], mag[x_pixel/2:,y_pixel/2:]\n",
    "    hists = [np.bincount(b.ravel(), m.ravel(), bin_n) for b, m in zip(bin_cells, mag_cells)]\n",
    "    hist = np.hstack(hists)\n",
    "    return hist"
   ]
  },
  {
   "cell_type": "code",
   "execution_count": 4,
   "metadata": {},
   "outputs": [
    {
     "name": "stdout",
     "output_type": "stream",
     "text": [
      "40  num\n"
     ]
    }
   ],
   "source": [
    "img = []\n",
    "for name in os.listdir(os.getcwd() + '/cat/'):\n",
    "    pic = cv2.imread(os.getcwd() + '/cat/' + name, 0)\n",
    "    img.append(pic)\n",
    "\n",
    "print len(img), ' num'"
   ]
  },
  {
   "cell_type": "code",
   "execution_count": 5,
   "metadata": {},
   "outputs": [
    {
     "name": "stdout",
     "output_type": "stream",
     "text": [
      "89  num\n",
      "40  positive\n"
     ]
    }
   ],
   "source": [
    "positive = len(img)\n",
    "for name in os.listdir(os.getcwd() + '/other/'):\n",
    "    pic = cv2.imread(os.getcwd() + '/other/' + name, 0)\n",
    "    img.append(pic)\n",
    "    \n",
    "print len(img), ' num'\n",
    "print positive, ' positive'"
   ]
  },
  {
   "cell_type": "code",
   "execution_count": 6,
   "metadata": {},
   "outputs": [],
   "source": [
    "trainpic = []\n",
    "for item in img:\n",
    "    trainpic.append(item)\n",
    "\n",
    "svm_params = dict(kernel_type = cv2.SVM_LINEAR, svm_type = cv2.SVM_C_SVC, C = 2.67, gamma = 5.383)"
   ]
  },
  {
   "cell_type": "code",
   "execution_count": 7,
   "metadata": {},
   "outputs": [
    {
     "name": "stdout",
     "output_type": "stream",
     "text": [
      "(1024,)\n"
     ]
    }
   ],
   "source": [
    "# test\n",
    "tmp = hog(img[0])\n",
    "print tmp.shape"
   ]
  },
  {
   "cell_type": "code",
   "execution_count": 8,
   "metadata": {},
   "outputs": [
    {
     "name": "stdout",
     "output_type": "stream",
     "text": [
      "(89, 1024)  hogdata\n",
      "(89, 1024)  trainData\n",
      "(89, 1)  responses\n",
      "89\n",
      "89\n",
      "<type 'numpy.ndarray'>\n"
     ]
    }
   ],
   "source": [
    "# data preprocessing\n",
    "hogdata = map(hog, trainpic)\n",
    "print np.float32(hogdata).shape, ' hogdata'\n",
    "trainData = np.float32(hogdata).reshape(-1, bin_n*4)\n",
    "print trainData.shape, ' trainData'\n",
    "responses = np.float32(np.repeat(1.0, trainData.shape[0])[:, np.newaxis])\n",
    "responses[positive:trainData.shape[0]] = -1.0\n",
    "print responses.shape, ' responses'\n",
    "print len(trainData)\n",
    "print len(responses)\n",
    "print type(trainData)"
   ]
  },
  {
   "cell_type": "code",
   "execution_count": 9,
   "metadata": {},
   "outputs": [],
   "source": [
    "svm = cv2.SVM()\n",
    "svm.train(trainData, responses, params=svm_params)\n",
    "svm.save('svm_cat_data.dat')"
   ]
  },
  {
   "cell_type": "markdown",
   "metadata": {},
   "source": [
    "## predicting"
   ]
  },
  {
   "cell_type": "code",
   "execution_count": 10,
   "metadata": {},
   "outputs": [],
   "source": [
    "svm = cv2.SVM()\n",
    "svm.load('svm_cat_data.dat')"
   ]
  },
  {
   "cell_type": "code",
   "execution_count": 11,
   "metadata": {},
   "outputs": [
    {
     "name": "stdout",
     "output_type": "stream",
     "text": [
      "(259, 194)  img_test0\n",
      "(1, 1024)  testData\n",
      "-1.0\n"
     ]
    }
   ],
   "source": [
    "# test\n",
    "img = cv2.imread('./predict/01.jpg', 0)\n",
    "print img.shape, ' img_test0'\n",
    "hogdata = hog(img)\n",
    "testData = np.float32(hogdata).reshape(-1, bin_n*4)\n",
    "print testData.shape, ' testData'\n",
    "result = svm.predict(testData)\n",
    "print result\n",
    "if result > 0:\n",
    "    print ' this pic is a cat!'"
   ]
  },
  {
   "cell_type": "code",
   "execution_count": 12,
   "metadata": {},
   "outputs": [
    {
     "name": "stdout",
     "output_type": "stream",
     "text": [
      "19  len(test_tmp)\n"
     ]
    }
   ],
   "source": [
    "# preprocess for prediction\n",
    "test_tmp = []\n",
    "for name in os.listdir(os.getcwd() + '/predict/'):\n",
    "    img = cv2.imread(os.getcwd() + '/predict/' + name, 0)\n",
    "    test_tmp.append(img)\n",
    "print len(test_tmp), ' len(test_tmp)'"
   ]
  },
  {
   "cell_type": "code",
   "execution_count": 13,
   "metadata": {},
   "outputs": [
    {
     "name": "stdout",
     "output_type": "stream",
     "text": [
      "(19, 1024)  testData\n",
      "[-1.0, -1.0, -1.0, -1.0, 1.0, -1.0, -1.0, -1.0, -1.0, 1.0, -1.0, -1.0, -1.0, -1.0, -1.0, -1.0, -1.0, -1.0, -1.0]\n"
     ]
    }
   ],
   "source": [
    "# predict\n",
    "hogdata = map(hog, test_tmp)\n",
    "testData = np.float32(hogdata).reshape(-1, bin_n*4)\n",
    "print testData.shape, ' testData'\n",
    "result = [svm.predict(item) for item in testData]\n",
    "print result"
   ]
  },
  {
   "cell_type": "markdown",
   "metadata": {},
   "source": [
    "# sklearn\n",
    "use sklearn to build the svm models instead of opencv"
   ]
  },
  {
   "cell_type": "code",
   "execution_count": 15,
   "metadata": {},
   "outputs": [],
   "source": [
    "import os\n",
    "import cv2\n",
    "import numpy as np\n",
    "from skimage import feature as ft\n",
    "from sklearn.svm import SVC"
   ]
  },
  {
   "cell_type": "code",
   "execution_count": 16,
   "metadata": {},
   "outputs": [
    {
     "name": "stdout",
     "output_type": "stream",
     "text": [
      "positive samples: 40\n",
      "negative samples: 49\n",
      "prediction samples: 19\n"
     ]
    }
   ],
   "source": [
    "img = []\n",
    "# positive\n",
    "for name in os.listdir(os.getcwd() + '/cat/'):\n",
    "    pic = cv2.imread(os.getcwd() + '/cat/' + name, 0)\n",
    "    img.append(pic)\n",
    "positive = len(img)\n",
    "print \"positive samples: {}\".format(positive)\n",
    "\n",
    "# negative\n",
    "for name in os.listdir(os.getcwd() + '/other/'):\n",
    "    pic = cv2.imread(os.getcwd() + '/other/' + name, 0)\n",
    "    img.append(pic)\n",
    "\n",
    "print \"negative samples: {}\".format(len(img) - positive)\n",
    "\n",
    "# predict\n",
    "predict_img = []\n",
    "for name in os.listdir(os.getcwd() + '/predict/'):\n",
    "    pic = cv2.imread(os.getcwd() + '/predict/' + name, 0)\n",
    "    predict_img.append(pic)\n",
    "\n",
    "print \"prediction samples: {}\".format(len(predict_img))"
   ]
  },
  {
   "cell_type": "code",
   "execution_count": 17,
   "metadata": {},
   "outputs": [],
   "source": [
    "def myHog(img):\n",
    "    feature = ft.hog(img, orientations=8, pixels_per_cell=(16,16), cells_per_block=(1,1))\n",
    "    return feature"
   ]
  },
  {
   "cell_type": "code",
   "execution_count": 18,
   "metadata": {},
   "outputs": [
    {
     "name": "stderr",
     "output_type": "stream",
     "text": [
      "/usr/local/lib/python2.7/dist-packages/skimage/feature/_hog.py:119: skimage_deprecation: Default value of `block_norm`==`L1` is deprecated and will be changed to `L2-Hys` in v0.15\n",
      "  'be changed to `L2-Hys` in v0.15', skimage_deprecation)\n"
     ]
    }
   ],
   "source": [
    "HOG_feature = map(myHog, img)\n",
    "predict_feature = map(myHog, predict_img)\n",
    "predict_vector = np.asarray(predict_feature)"
   ]
  },
  {
   "cell_type": "code",
   "execution_count": 19,
   "metadata": {},
   "outputs": [],
   "source": [
    "vector = np.asarray(HOG_feature)\n",
    "label = np.array(np.repeat(1, vector.shape[0]))\n",
    "label[positive:] = 0"
   ]
  },
  {
   "cell_type": "code",
   "execution_count": 20,
   "metadata": {},
   "outputs": [
    {
     "data": {
      "text/plain": [
       "SVC(C=2.67, cache_size=200, class_weight=None, coef0=0.0,\n",
       "  decision_function_shape='ovr', degree=3, gamma=5.383, kernel='linear',\n",
       "  max_iter=-1, probability=False, random_state=None, shrinking=True,\n",
       "  tol=0.001, verbose=False)"
      ]
     },
     "execution_count": 20,
     "metadata": {},
     "output_type": "execute_result"
    }
   ],
   "source": [
    "clf = SVC(kernel='linear', C=2.67, gamma=5.383)\n",
    "clf.fit(vector, label)"
   ]
  },
  {
   "cell_type": "code",
   "execution_count": 21,
   "metadata": {},
   "outputs": [],
   "source": [
    "predict_label = clf.predict(predict_vector)"
   ]
  },
  {
   "cell_type": "code",
   "execution_count": 22,
   "metadata": {},
   "outputs": [
    {
     "data": {
      "text/plain": [
       "array([0, 0, 1, 0, 1, 0, 0, 0, 0, 1, 0, 0, 0, 0, 0, 1, 0, 0, 0])"
      ]
     },
     "execution_count": 22,
     "metadata": {},
     "output_type": "execute_result"
    }
   ],
   "source": [
    "predict_label"
   ]
  },
  {
   "cell_type": "markdown",
   "metadata": {},
   "source": [
    "# Summary\n",
    "The process of these two solutions are almost the same, and the only difference is that skimage provides the hog function."
   ]
  },
  {
   "cell_type": "code",
   "execution_count": null,
   "metadata": {},
   "outputs": [],
   "source": []
  }
 ],
 "metadata": {
  "kernelspec": {
   "display_name": "Python 2",
   "language": "python",
   "name": "python2"
  },
  "language_info": {
   "codemirror_mode": {
    "name": "ipython",
    "version": 2
   },
   "file_extension": ".py",
   "mimetype": "text/x-python",
   "name": "python",
   "nbconvert_exporter": "python",
   "pygments_lexer": "ipython2",
   "version": "2.7.12"
  }
 },
 "nbformat": 4,
 "nbformat_minor": 2
}
